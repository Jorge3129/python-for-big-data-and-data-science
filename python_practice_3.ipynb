{
 "nbformat": 4,
 "nbformat_minor": 0,
 "metadata": {
  "colab": {
   "provenance": []
  },
  "kernelspec": {
   "name": "python3",
   "language": "python",
   "display_name": "Python 3 (ipykernel)"
  },
  "language_info": {
   "name": "python"
  }
 },
 "cells": [
  {
   "cell_type": "markdown",
   "source": [
    "# I. Оператори порівняння та логічні оператори. Умови."
   ],
   "metadata": {
    "id": "qDEi2Pi-4yUC"
   }
  },
  {
   "cell_type": "markdown",
   "source": [
    "1. Створіть цілочисленну змінну зі своїм щасливим або улюбленим числом. Напишіть код, який би автоматизовував наступну задачу.\n",
    "\n",
    "Якщо число парне, помножте його на 2 та виведіть результат на екран.\n",
    "\n",
    "Але якщо число непарне, помножте його на 3 та додайте 1 і виведіть на екран."
   ],
   "metadata": {
    "id": "3v8D4Dkm43Ua"
   }
  },
  {
   "cell_type": "code",
   "execution_count": 1,
   "metadata": {
    "id": "dlVjc-Nu4bmb",
    "ExecuteTime": {
     "end_time": "2024-02-14T14:37:51.239047400Z",
     "start_time": "2024-02-14T14:37:51.205165Z"
    }
   },
   "outputs": [
    {
     "name": "stdout",
     "output_type": "stream",
     "text": [
      "22\n"
     ]
    }
   ],
   "source": [
    "my_num = 7\n",
    "if my_num % 2 == 0:\n",
    "    print(my_num * 2)\n",
    "else:\n",
    "    print(my_num * 3 + 1)\n",
    "    "
   ]
  },
  {
   "cell_type": "markdown",
   "source": [
    "2. Створіть змінну, що посилається на список. Якщо список пустий, додайте будь-який елемент у кінець списку. Якщо ж ні, то нічого не робіть."
   ],
   "metadata": {
    "id": "H669P0QK5BI_"
   }
  },
  {
   "cell_type": "code",
   "source": [
    "my_list = [1, 2, 3, 4, 5, 6, 7, 8, 9]\n",
    "if not my_list:\n",
    "    my_list.append(1)\n",
    "print(my_list)"
   ],
   "metadata": {
    "id": "ecWlfra45f6E",
    "ExecuteTime": {
     "end_time": "2024-02-14T14:39:41.726030700Z",
     "start_time": "2024-02-14T14:39:41.685502700Z"
    }
   },
   "execution_count": 5,
   "outputs": [
    {
     "name": "stdout",
     "output_type": "stream",
     "text": [
      "[1, 2, 3, 4, 5, 6, 7, 8, 9]\n"
     ]
    }
   ]
  },
  {
   "cell_type": "markdown",
   "source": [
    "3. Створіть рядок зі своїм імʼям латинкою. Напишіть код, який би автоматизовував наступну задачу.\n",
    "\n",
    "Якщо в імені є літера \"а\"\n",
    " або \"i\", Виведіть на екран повідомлення \"A or I is in the name\".\n",
    "\n",
    "\n",
    "\n",
    "Якщо в імені є літери \"o\" та \"n\", Виведіть на екран повідомлення \"O and N is in the name\".\n",
    "\n",
    "Також якщо в імені немає літери \"о\", але є \"n\", Виведіть на екран повідомлення \"Only N is in the name\".\n",
    "\n",
    "В решті випадків виведіть на екран повідомлення \"There is no N in the name, but there might be O\".\n",
    "\n",
    "Зверніть увагу, що, наприклад, для імені \"Antonina\" буде виведено два повідомлення."
   ],
   "metadata": {
    "id": "h9Y3cMUd5h85"
   }
  },
  {
   "cell_type": "code",
   "source": [
    "name = 'P'\n",
    "\n",
    "lower_name = name.lower()\n",
    "\n",
    "if 'a' in lower_name or 'i' in lower_name:\n",
    "    print(\"A or I is in the name\")\n",
    "if 'o' in lower_name and 'n' in lower_name:\n",
    "    print(\"O and N is in the name\")\n",
    "elif 'n' in lower_name:\n",
    "    print(\"Only N is in the name\")\n",
    "else:\n",
    "    print(\"There is no N in the name, but there might be O\")\n"
   ],
   "metadata": {
    "id": "bUH4LUx35u52",
    "ExecuteTime": {
     "end_time": "2024-02-14T14:50:42.437428600Z",
     "start_time": "2024-02-14T14:50:42.408428Z"
    }
   },
   "execution_count": 11,
   "outputs": [
    {
     "name": "stdout",
     "output_type": "stream",
     "text": [
      "There is no N in the name, but there might be O\n"
     ]
    }
   ]
  },
  {
   "cell_type": "markdown",
   "source": [
    "# II. Comprehensions."
   ],
   "metadata": {
    "id": "wPCXJv4354cU"
   }
  },
  {
   "cell_type": "markdown",
   "source": [
    "4. Створіть список, використовуючи if (не if-else), range та comprehension."
   ],
   "metadata": {
    "id": "jULLW5jN55Pw"
   }
  },
  {
   "cell_type": "code",
   "source": [
    "my_list = [x * 2 for x in range(0, 10) if x % 2 != 0]\n",
    "print(my_list)"
   ],
   "metadata": {
    "id": "mlZalnVC6W3F",
    "ExecuteTime": {
     "end_time": "2024-02-14T14:51:47.517050Z",
     "start_time": "2024-02-14T14:51:47.501620500Z"
    }
   },
   "execution_count": 13,
   "outputs": [
    {
     "name": "stdout",
     "output_type": "stream",
     "text": [
      "[2, 6, 10, 14, 18]\n"
     ]
    }
   ]
  },
  {
   "cell_type": "markdown",
   "source": [
    "5. Створіть словник, використовуючи dict comprehension, що містить if else. Коли слід використовувати comprehensions, а коли їх слід уникати?"
   ],
   "metadata": {
    "id": "LqhEQ4JW6XcC"
   }
  },
  {
   "cell_type": "code",
   "source": [],
   "metadata": {
    "id": "1yVaFbOs6hta"
   },
   "execution_count": null,
   "outputs": []
  },
  {
   "cell_type": "markdown",
   "source": [
    "*місце для відповіді"
   ],
   "metadata": {
    "id": "wbkzNhKq6hzz"
   }
  },
  {
   "cell_type": "markdown",
   "source": [
    "6. Створіть список з рядками та запишіть його у змінну. Створіть ще один список на основі попереднього, де кожен рядок буде містити тільки три перших заглавних символи. Наприклад: ['hello', 'i', 'dont', 'care'] -> ['HEL', 'I', 'DON', 'CAR']. Використання comprehensions обовʼязкове."
   ],
   "metadata": {
    "id": "ZlqB8G3G6lHP"
   }
  },
  {
   "cell_type": "code",
   "source": [
    "my_list = ['hello', 'i', 'dont', 'care']\n",
    "list2 = [x.upper()[:3] for x in my_list]\n",
    "print(list2)"
   ],
   "metadata": {
    "id": "nw6rz0bR60VC",
    "ExecuteTime": {
     "end_time": "2024-02-14T14:56:22.264740600Z",
     "start_time": "2024-02-14T14:56:22.249245400Z"
    }
   },
   "execution_count": 16,
   "outputs": [
    {
     "name": "stdout",
     "output_type": "stream",
     "text": [
      "['HEL', 'I', 'DON', 'CAR']\n"
     ]
    }
   ]
  },
  {
   "cell_type": "markdown",
   "source": [
    "# III. Цикли."
   ],
   "metadata": {
    "id": "Tj573IAH64Fz"
   }
  },
  {
   "cell_type": "markdown",
   "source": [
    "7. Продемонструйте роботу циклу while. Не можна використовувати True для запуску циклу, щоб уникнути безкінечного циклу!"
   ],
   "metadata": {
    "id": "tN_33xdE65H5"
   }
  },
  {
   "cell_type": "code",
   "source": [
    "a = 1\n",
    "while a <= 5:\n",
    "    print(a)\n",
    "    a += 1"
   ],
   "metadata": {
    "id": "Kd9FO6yG63P5",
    "ExecuteTime": {
     "end_time": "2024-02-14T14:57:12.922758700Z",
     "start_time": "2024-02-14T14:57:12.904697Z"
    }
   },
   "execution_count": 17,
   "outputs": [
    {
     "name": "stdout",
     "output_type": "stream",
     "text": [
      "1\n",
      "2\n",
      "3\n",
      "4\n",
      "5\n"
     ]
    }
   ]
  },
  {
   "cell_type": "markdown",
   "source": [
    "8. Напишіть програму, яка виведе на екран непарні числа в діапазоні від 0 до 20 включно."
   ],
   "metadata": {
    "id": "x2CmfZO-7pW0"
   }
  },
  {
   "cell_type": "code",
   "source": [
    "a = 1\n",
    "while a <= 20:\n",
    "    print(a)\n",
    "    a += 2"
   ],
   "metadata": {
    "id": "aCSRYA6s7tkF",
    "ExecuteTime": {
     "end_time": "2024-02-14T14:58:07.419438700Z",
     "start_time": "2024-02-14T14:58:07.400555200Z"
    }
   },
   "execution_count": 18,
   "outputs": [
    {
     "name": "stdout",
     "output_type": "stream",
     "text": [
      "1\n",
      "3\n",
      "5\n",
      "7\n",
      "9\n",
      "11\n",
      "13\n",
      "15\n",
      "17\n",
      "19\n"
     ]
    }
   ]
  },
  {
   "cell_type": "markdown",
   "source": [
    "9. Створіть список з елементами булевого типу або None. Використовуючи цикли, отримайте в результаті список з кортежами, де перший елемент кортежу - індекс(ціле число), а другий елемент - відповідне значення з першого списку.\n",
    "\n",
    "Наприклад, [True, True, None, False] -> [(0, True), (1, True), (2, None), (3, False)]"
   ],
   "metadata": {
    "id": "MDWNocZD7t_B"
   }
  },
  {
   "cell_type": "code",
   "source": [],
   "metadata": {
    "id": "0EUyjMdp7yfh"
   },
   "execution_count": null,
   "outputs": []
  },
  {
   "cell_type": "markdown",
   "source": [
    "10. Створіть словник, де ключі - назви книжок, а значення - їхня кількість у наявності в Вашій міні-бібліотеці. Бібліотека має містити щонайменше 6 книжок (6 пар значень у словнику) і щонайбільше 10 (пар значень). Використовуючи цикли, оновіть словник (не створюйте новий) так, щоби кількість книг у наявності збільшилося на 5 кожної книги. Наприклад,\n",
    "{'It': 3, 'Fault stars': 10, 'Bible': 17, 'Psychological romance': 4, 'Harry Potter': 13} -> {'It': 8, 'Fault stars': 15, 'Bible': 22, 'Psychological romance': 9, 'Harry Potter': 18}"
   ],
   "metadata": {
    "id": "-6XUqlcG7zKs"
   }
  },
  {
   "cell_type": "code",
   "source": [],
   "metadata": {
    "id": "Ceoj9wwb791q"
   },
   "execution_count": null,
   "outputs": []
  },
  {
   "cell_type": "markdown",
   "source": [
    "11. Визначте цілочислену змінну n, що належить проміжку від 4 до 10 включно. Використовуючи цикли, виведіть в консоль наступний патерн.\n",
    "\n",
    "#\n",
    "##\n",
    "###\n",
    "####\n",
    "\n",
    "... #*n\n"
   ],
   "metadata": {
    "id": "QLzyJM288AC7"
   }
  },
  {
   "cell_type": "code",
   "source": [],
   "metadata": {
    "id": "KOpng87s8Duz"
   },
   "execution_count": null,
   "outputs": []
  },
  {
   "cell_type": "markdown",
   "source": [
    "12. Гра \"Нумо вгадай\".\n",
    "Розробіть просту гру, де користувач має вгадати випадкове число від 1 до 100. Для генерації випадкового числа використовуйте функцію random.randint(a, b) (тут a та b включно). Для отримання числа з консолі використовуйте функцію input(), результат якої обовʼязково явно приведіть до типу int.\n",
    "\n",
    "Підказка: використовуйте цикл while та умови if-else, щоб повідомити користувачу піказки (напр. \"Більше\", \"Менше\") поки користувач не вгадає. По завершенню виведіть кількість спроб, які знадобилися для вгадування."
   ],
   "metadata": {
    "id": "_bd-bqAT8EHn"
   }
  },
  {
   "cell_type": "code",
   "source": [],
   "metadata": {
    "id": "IK9nnxFK8Hkl"
   },
   "execution_count": null,
   "outputs": []
  },
  {
   "cell_type": "markdown",
   "source": [
    "# Вітаю! Ви велика(ий) молодець, що впоралась(вся). Похваліть себе та побалуйте чимось приємним. Я Вами пишаюся."
   ],
   "metadata": {
    "id": "PXoXWb7Z8IGi"
   }
  }
 ]
}
